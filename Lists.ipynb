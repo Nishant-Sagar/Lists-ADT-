{
 "cells": [
  {
   "cell_type": "markdown",
   "metadata": {},
   "source": [
    "# Stack\n"
   ]
  },
  {
   "cell_type": "code",
   "execution_count": 65,
   "metadata": {},
   "outputs": [],
   "source": [
    "class Stack:\n",
    "    \n",
    "    def __init__(self):\n",
    "        self.lists = []\n",
    "        self.size = 0\n",
    "    \n",
    "    def push(self,e):\n",
    "        return self.lists.append(e)\n",
    "        self.size += 1\n",
    "        \n",
    "    def pop(self):\n",
    "        if len(self.lists) == 0:\n",
    "            print('Stack is empty')\n",
    "        else:\n",
    "            return self.lists.pop()\n",
    "        \n",
    "    def __len__(self):\n",
    "        return len(self.lists)\n",
    "    \n",
    "    def show(self):\n",
    "        return self.lists[::-1]"
   ]
  },
  {
   "cell_type": "code",
   "execution_count": 71,
   "metadata": {},
   "outputs": [],
   "source": [
    "stack = Stack()\n",
    "stack.push(6)\n",
    "stack.push(5)\n",
    "stack.push(4)"
   ]
  },
  {
   "cell_type": "code",
   "execution_count": 72,
   "metadata": {},
   "outputs": [
    {
     "name": "stdout",
     "output_type": "stream",
     "text": [
      "[5, 6]\n",
      "2\n"
     ]
    }
   ],
   "source": [
    "stack.pop()\n",
    "print(stack.show())\n",
    "print(stack.__len__())"
   ]
  },
  {
   "cell_type": "markdown",
   "metadata": {},
   "source": [
    "# Queue"
   ]
  },
  {
   "cell_type": "code",
   "execution_count": 82,
   "metadata": {},
   "outputs": [],
   "source": [
    "class Queue:\n",
    "    \n",
    "    def __init__(self):\n",
    "        self.data = []\n",
    "    \n",
    "    def enqueue(self,data):\n",
    "        return self.data.insert(0,data)\n",
    "    \n",
    "    def dequeue(self):\n",
    "        if len(self.data) == 0:\n",
    "            print('Queue is Empty')\n",
    "        else:\n",
    "            return self.data.pop()\n",
    "        \n",
    "    def show(self):\n",
    "        return self.data\n",
    "    \n",
    "    def __len__(self):\n",
    "        return len(self.data)"
   ]
  },
  {
   "cell_type": "code",
   "execution_count": 83,
   "metadata": {},
   "outputs": [],
   "source": [
    "a = Queue()"
   ]
  },
  {
   "cell_type": "code",
   "execution_count": 85,
   "metadata": {},
   "outputs": [
    {
     "data": {
      "text/plain": [
       "[5, 6, 6]"
      ]
     },
     "execution_count": 85,
     "metadata": {},
     "output_type": "execute_result"
    }
   ],
   "source": [
    "a.enqueue(6)\n",
    "a.enqueue(5)\n",
    "a.show()"
   ]
  },
  {
   "cell_type": "code",
   "execution_count": 86,
   "metadata": {},
   "outputs": [
    {
     "data": {
      "text/plain": [
       "6"
      ]
     },
     "execution_count": 86,
     "metadata": {},
     "output_type": "execute_result"
    }
   ],
   "source": [
    "a.dequeue()"
   ]
  },
  {
   "cell_type": "code",
   "execution_count": 88,
   "metadata": {},
   "outputs": [
    {
     "data": {
      "text/plain": [
       "2"
      ]
     },
     "execution_count": 88,
     "metadata": {},
     "output_type": "execute_result"
    }
   ],
   "source": [
    "a.__len__()"
   ]
  },
  {
   "cell_type": "markdown",
   "metadata": {},
   "source": [
    "# Stack using Singly Linked list "
   ]
  },
  {
   "cell_type": "code",
   "execution_count": 106,
   "metadata": {},
   "outputs": [],
   "source": [
    "class Node:\n",
    "    def __init__(self,data):\n",
    "        self.data = data\n",
    "        self.next = None\n",
    "        \n",
    "class Stack:\n",
    "    def __init__(self):\n",
    "        self.head = None\n",
    "        self.size = 0\n",
    "    \n",
    "    def isempty(self):\n",
    "        if self.head == None:\n",
    "            return True\n",
    "        else:\n",
    "            return False\n",
    "        \n",
    "    def push(self,data):\n",
    "        if self.head == None:\n",
    "            self.head = Node(data)\n",
    "        else:\n",
    "            newnode = Node(data)\n",
    "            newnode.next = self.head\n",
    "            self.head = newnode\n",
    "            \n",
    "    def pop(self):\n",
    "        if self.head == None:\n",
    "            print('Stack is Empty')\n",
    "        else:\n",
    "            poppednode = self.head\n",
    "            self.head = self.head.next\n",
    "            poppednode.next = None\n",
    "            return poppednode.data\n",
    "    \n",
    "    def peek(self):\n",
    "        if self.head == None:\n",
    "            return None\n",
    "        else:\n",
    "            return self.head.data\n",
    "        \n",
    "    def display(self):\n",
    "        pos = self.head\n",
    "        if self.head == None:\n",
    "            return None\n",
    "        else:\n",
    "            while (pos != None):\n",
    "                print(pos.data, '->>', end = ' ')\n",
    "                pos = pos.next\n",
    "            return"
   ]
  },
  {
   "cell_type": "code",
   "execution_count": 107,
   "metadata": {},
   "outputs": [],
   "source": [
    "a = Stack()"
   ]
  },
  {
   "cell_type": "code",
   "execution_count": 108,
   "metadata": {},
   "outputs": [
    {
     "name": "stdout",
     "output_type": "stream",
     "text": [
      "Stack is Empty\n"
     ]
    }
   ],
   "source": [
    "a.pop()"
   ]
  },
  {
   "cell_type": "code",
   "execution_count": 109,
   "metadata": {},
   "outputs": [
    {
     "name": "stdout",
     "output_type": "stream",
     "text": [
      "7\n",
      "8 ->> 7 ->> None\n"
     ]
    }
   ],
   "source": [
    "a.push(7)\n",
    "print(a.peek())\n",
    "a.push(8)\n",
    "print(a.display())"
   ]
  },
  {
   "cell_type": "markdown",
   "metadata": {},
   "source": [
    "# Queue using singly linked list"
   ]
  },
  {
   "cell_type": "code",
   "execution_count": 149,
   "metadata": {},
   "outputs": [],
   "source": [
    "class Node:\n",
    "    def __init__(self,data):\n",
    "        self.data = data\n",
    "        self.next = None\n",
    "\n",
    "class Queue:\n",
    "    def __init__(self):\n",
    "        self.head = None\n",
    "        self.tail = None\n",
    "        self.size = 0\n",
    "        \n",
    "    def isempty(self):\n",
    "        return self.head == None\n",
    "        \n",
    "    def enqueue(self,data):\n",
    "        newnode = Node(data)\n",
    "        if self.tail == None:\n",
    "            self.head = self.tail = newnode\n",
    "            self.size += 1\n",
    "        else:\n",
    "            self.tail.next = newnode\n",
    "            self.tail = newnode\n",
    "            self.size += 1\n",
    "    \n",
    "    def dequeue(self):\n",
    "        if self.isempty():\n",
    "            print('Queue is Empty')\n",
    "        else:\n",
    "            pos = self.head.data\n",
    "            temp = self.head\n",
    "            self.head = temp.next\n",
    "            self.size -= 1\n",
    "            \n",
    "            if self.head == None:\n",
    "                self.tail = None\n",
    "            return pos\n",
    "        \n",
    "    def __len__(self):\n",
    "        return self.size\n",
    "    \n",
    "    def display(self):\n",
    "        pos = self.head\n",
    "        if self.head == None:\n",
    "            return None\n",
    "        else:\n",
    "            while (pos != None):\n",
    "                print(pos.data, '->>', end = ' ')\n",
    "                pos = pos.next\n",
    "            return\n",
    "            "
   ]
  },
  {
   "cell_type": "code",
   "execution_count": 150,
   "metadata": {},
   "outputs": [],
   "source": [
    "a = Queue()"
   ]
  },
  {
   "cell_type": "code",
   "execution_count": 157,
   "metadata": {},
   "outputs": [],
   "source": [
    "a.enqueue(2)"
   ]
  },
  {
   "cell_type": "code",
   "execution_count": 158,
   "metadata": {},
   "outputs": [
    {
     "name": "stdout",
     "output_type": "stream",
     "text": [
      "1 ->> 2 ->> "
     ]
    }
   ],
   "source": [
    "a.display()"
   ]
  },
  {
   "cell_type": "code",
   "execution_count": 159,
   "metadata": {},
   "outputs": [
    {
     "data": {
      "text/plain": [
       "2"
      ]
     },
     "execution_count": 159,
     "metadata": {},
     "output_type": "execute_result"
    }
   ],
   "source": [
    "a.__len__()"
   ]
  },
  {
   "cell_type": "code",
   "execution_count": 162,
   "metadata": {},
   "outputs": [
    {
     "name": "stdout",
     "output_type": "stream",
     "text": [
      "Queue is Empty\n"
     ]
    }
   ],
   "source": [
    "a.dequeue()"
   ]
  },
  {
   "cell_type": "markdown",
   "metadata": {},
   "source": [
    "# Circular Linked List"
   ]
  },
  {
   "cell_type": "code",
   "execution_count": 358,
   "metadata": {},
   "outputs": [],
   "source": [
    "class Node:\n",
    "    def __init__(self,data):\n",
    "        self.data = data\n",
    "        self.next = None\n",
    "        \n",
    "class CircularList:\n",
    "    def __init__(self):\n",
    "        self.head = None\n",
    "        self.tail = None\n",
    "        self.size = 0\n",
    "        \n",
    "    def isempty(self):\n",
    "        return self.head == None\n",
    "        \n",
    "    def __len__(self):\n",
    "        return self.size\n",
    "    \n",
    "    def enqueue(self,data):\n",
    "        newnode = Node(data)\n",
    "        if self.isempty():\n",
    "            self.head = self.tail = newnode\n",
    "            self.size += 1\n",
    "        else:\n",
    "            self.tail.next = newnode\n",
    "            self.tail = newnode\n",
    "            self.tail.next = self.head\n",
    "            self.size += 1\n",
    "            \n",
    "    def dequeue(self):\n",
    "        if self.head == None:\n",
    "            print('Stack is Empty')\n",
    "            \n",
    "        elif self.tail == self.head:\n",
    "            pos = self.head.data\n",
    "            self.head = None\n",
    "            self.tail = None\n",
    "            self.size -= 1\n",
    "            return pos\n",
    "        else:\n",
    "            pos = self.head.data\n",
    "            temp = self.head\n",
    "            self.head = temp.next\n",
    "            self.tail.next = self.head\n",
    "            self.size -= 1\n",
    "            \n",
    "            if self.head == None:\n",
    "                self.tail = None\n",
    "            return pos \n",
    "        \n",
    "    def display(self):\n",
    "        curr = self.head\n",
    "        if self.head == None:\n",
    "            print('Queue is Empty')\n",
    "        else:\n",
    "            while curr:\n",
    "                print(curr.data,' >> ' ,end = ' ')\n",
    "                curr = curr.next\n",
    "                if curr == self.head:\n",
    "                    break"
   ]
  },
  {
   "cell_type": "code",
   "execution_count": 359,
   "metadata": {},
   "outputs": [],
   "source": [
    "a = CircularList()"
   ]
  },
  {
   "cell_type": "code",
   "execution_count": 360,
   "metadata": {},
   "outputs": [],
   "source": [
    "a.enqueue(1)\n",
    "a.enqueue(2)"
   ]
  },
  {
   "cell_type": "code",
   "execution_count": 361,
   "metadata": {},
   "outputs": [
    {
     "data": {
      "text/plain": [
       "2"
      ]
     },
     "execution_count": 361,
     "metadata": {},
     "output_type": "execute_result"
    }
   ],
   "source": [
    "a.__len__()"
   ]
  },
  {
   "cell_type": "code",
   "execution_count": 365,
   "metadata": {},
   "outputs": [
    {
     "name": "stdout",
     "output_type": "stream",
     "text": [
      "Queue is Empty\n"
     ]
    }
   ],
   "source": [
    "a.display()"
   ]
  },
  {
   "cell_type": "code",
   "execution_count": 366,
   "metadata": {},
   "outputs": [
    {
     "name": "stdout",
     "output_type": "stream",
     "text": [
      "Stack is Empty\n"
     ]
    }
   ],
   "source": [
    "a.dequeue()"
   ]
  },
  {
   "cell_type": "markdown",
   "metadata": {},
   "source": [
    "# Stack Using Doubly Linked List"
   ]
  },
  {
   "cell_type": "code",
   "execution_count": 269,
   "metadata": {},
   "outputs": [],
   "source": [
    "class Node:\n",
    "    def __init__(self,data):\n",
    "        self.data = data\n",
    "        self.next = None\n",
    "        self.prev = None\n",
    "        \n",
    "class Stack:\n",
    "    def __init__(self):\n",
    "        self.head = None\n",
    "        self.size = 0\n",
    "        \n",
    "    def isempty(self):\n",
    "        return self.size == 0\n",
    "    \n",
    "    def __len__(self):\n",
    "        return self.size\n",
    "    \n",
    "    def push(self,data):\n",
    "        newnode = Node(data)\n",
    "        if self.isempty():\n",
    "            self.head = newnode\n",
    "            self.size += 1\n",
    "        else:\n",
    "            self.head.prev = newnode \n",
    "            newnode.next = self.head\n",
    "            newnode.prev = None\n",
    "            self.head = newnode\n",
    "            self.size += 1\n",
    "            \n",
    "    def pop(self):\n",
    "        if self.head == None:\n",
    "            print('Stack is Empty')\n",
    "        elif self.head.next == None:\n",
    "            temp = self.head.data\n",
    "            self.head = None\n",
    "            self.size -= 1\n",
    "            return temp\n",
    "        else:\n",
    "            temp = self.head.data\n",
    "            self.head = self.head.next\n",
    "            self.head.prev = None\n",
    "            self.size -= 1\n",
    "            return temp\n",
    "        \n",
    "    def display(self):\n",
    "        curr = self.head\n",
    "        if self.head == None:\n",
    "            return None\n",
    "        else:\n",
    "            while curr:\n",
    "                print(curr.data,' >> ' ,end = ' ')\n",
    "                curr = curr.next\n",
    "                if curr == self.head:\n",
    "                    break"
   ]
  },
  {
   "cell_type": "code",
   "execution_count": 270,
   "metadata": {},
   "outputs": [],
   "source": [
    "a= Stack()"
   ]
  },
  {
   "cell_type": "code",
   "execution_count": 271,
   "metadata": {},
   "outputs": [
    {
     "data": {
      "text/plain": [
       "0"
      ]
     },
     "execution_count": 271,
     "metadata": {},
     "output_type": "execute_result"
    }
   ],
   "source": [
    "a.__len__()"
   ]
  },
  {
   "cell_type": "code",
   "execution_count": 273,
   "metadata": {},
   "outputs": [],
   "source": [
    "a.push(13)"
   ]
  },
  {
   "cell_type": "code",
   "execution_count": 275,
   "metadata": {},
   "outputs": [
    {
     "data": {
      "text/plain": [
       "13"
      ]
     },
     "execution_count": 275,
     "metadata": {},
     "output_type": "execute_result"
    }
   ],
   "source": [
    "a.pop()"
   ]
  },
  {
   "cell_type": "code",
   "execution_count": 274,
   "metadata": {},
   "outputs": [
    {
     "name": "stdout",
     "output_type": "stream",
     "text": [
      "13  >>  3  >>  "
     ]
    }
   ],
   "source": [
    "a.display()"
   ]
  },
  {
   "cell_type": "code",
   "execution_count": 169,
   "metadata": {},
   "outputs": [
    {
     "data": {
      "text/plain": [
       "True"
      ]
     },
     "execution_count": 169,
     "metadata": {},
     "output_type": "execute_result"
    }
   ],
   "source": [
    "a.isempty()"
   ]
  },
  {
   "cell_type": "markdown",
   "metadata": {},
   "source": [
    "# Queue Using Doubly Linked List"
   ]
  },
  {
   "cell_type": "code",
   "execution_count": 192,
   "metadata": {},
   "outputs": [],
   "source": [
    "class Node:\n",
    "    def __init__(self,data):\n",
    "        self.data = data\n",
    "        self.next = None\n",
    "        self.prev = None\n",
    "        \n",
    "class Queue:\n",
    "    def __init__(self):\n",
    "        self.head = None\n",
    "        self.tail = None\n",
    "        self.size = 0\n",
    "        \n",
    "    def isempty(self):\n",
    "        return self.head == None\n",
    "    \n",
    "    def __len__(self):\n",
    "        return self.size\n",
    "    \n",
    "    def enqueue(self,data):\n",
    "        newnode = Node(data)\n",
    "        if self.isempty():\n",
    "            self.head = self.tail = newnode\n",
    "            self.size += 1\n",
    "        else:\n",
    "            pos = self.tail\n",
    "            self.tail.next = newnode\n",
    "            self.tail = newnode\n",
    "            self.tail.prev = pos\n",
    "            self.size += 1\n",
    "            \n",
    "    def dequeue(self):\n",
    "        if self.isempty():\n",
    "            print('Queue is Empty')\n",
    "        elif self.head.next == None:\n",
    "            temp = self.head.data\n",
    "            self.head = None\n",
    "            self.size -= 1\n",
    "            return temp\n",
    "        else:\n",
    "            temp = self.head.data\n",
    "            self.head = self.head.next\n",
    "            self.head.prev = None\n",
    "            self.size -= 1\n",
    "            return temp\n",
    "        \n",
    "    def display(self):\n",
    "        curr = self.head\n",
    "        if self.head == None:\n",
    "            print('Queue is Empty')\n",
    "        else:\n",
    "            while curr:\n",
    "                print(curr.data,' >> ' ,end = ' ')\n",
    "                curr = curr.next\n",
    "                if curr == self.head:\n",
    "                    break\n",
    "    "
   ]
  },
  {
   "cell_type": "code",
   "execution_count": 193,
   "metadata": {},
   "outputs": [],
   "source": [
    "a = Queue()"
   ]
  },
  {
   "cell_type": "code",
   "execution_count": 195,
   "metadata": {},
   "outputs": [],
   "source": [
    "a.enqueue(3)"
   ]
  },
  {
   "cell_type": "code",
   "execution_count": 199,
   "metadata": {},
   "outputs": [
    {
     "name": "stdout",
     "output_type": "stream",
     "text": [
      "Queue is Empty\n"
     ]
    }
   ],
   "source": [
    "a.display()"
   ]
  },
  {
   "cell_type": "code",
   "execution_count": 198,
   "metadata": {},
   "outputs": [
    {
     "data": {
      "text/plain": [
       "3"
      ]
     },
     "execution_count": 198,
     "metadata": {},
     "output_type": "execute_result"
    }
   ],
   "source": [
    "a.dequeue()"
   ]
  },
  {
   "cell_type": "code",
   "execution_count": 200,
   "metadata": {},
   "outputs": [
    {
     "data": {
      "text/plain": [
       "0"
      ]
     },
     "execution_count": 200,
     "metadata": {},
     "output_type": "execute_result"
    }
   ],
   "source": [
    "a.__len__()"
   ]
  },
  {
   "cell_type": "markdown",
   "metadata": {},
   "source": [
    "# Sort Doubly Linked List Using Bubble Sort Technique"
   ]
  },
  {
   "cell_type": "code",
   "execution_count": 70,
   "metadata": {},
   "outputs": [],
   "source": [
    "class Node:\n",
    "    def __init__(self,data):\n",
    "        self.data = data\n",
    "        self.next = None\n",
    "        self.prev = None\n",
    "        \n",
    "class Stack:\n",
    "    def __init__(self):\n",
    "        self.head = None\n",
    "        self.size = 0\n",
    "        \n",
    "    def isempty(self):\n",
    "        return self.size == 0\n",
    "    \n",
    "    def __len__(self):\n",
    "        return self.size\n",
    "    \n",
    "    def push(self,data):\n",
    "        newnode = Node(data)\n",
    "        if self.isempty():\n",
    "            self.head = newnode\n",
    "            self.size += 1\n",
    "        else:\n",
    "            self.head.prev = newnode \n",
    "            newnode.next = self.head\n",
    "            newnode.prev = None\n",
    "            self.head = newnode\n",
    "            self.size += 1\n",
    "            \n",
    "    def pop(self):\n",
    "        if self.head == None:\n",
    "            print('Stack is Empty')\n",
    "        elif self.head.next == None:\n",
    "            temp = self.head.data\n",
    "            self.head = None\n",
    "            self.size -= 1\n",
    "            return temp\n",
    "        else:\n",
    "            temp = self.head.data\n",
    "            self.head = self.head.next\n",
    "            self.head.prev = None\n",
    "            self.size -= 1\n",
    "            return temp\n",
    "        \n",
    "    def display(self):\n",
    "        curr = self.head\n",
    "        if self.head == None:\n",
    "            return None\n",
    "        else:\n",
    "            while curr:\n",
    "                print(curr.data,' >> ' ,end = ' ')\n",
    "                curr = curr.next\n",
    "                if curr == self.head:\n",
    "                    break\n",
    "                    \n",
    "# Sort the list using Bubble Sort.......                    \n",
    "    def sort(self):\n",
    "        if self.head == None:\n",
    "            print('Stack is Empty')\n",
    "        else:\n",
    "            current = self.head  \n",
    "            while(current.next != None):  \n",
    "                #Index will point to node next to current  \n",
    "                index = current.next;  \n",
    "                while(index != None):    \n",
    "                    if(current.data > index.data):  \n",
    "                        temp = current.data;  \n",
    "                        current.data = index.data;  \n",
    "                        index.data = temp\n",
    "                    index = index.next  \n",
    "                current = current.next "
   ]
  },
  {
   "cell_type": "code",
   "execution_count": 79,
   "metadata": {},
   "outputs": [],
   "source": [
    "a = Stack()"
   ]
  },
  {
   "cell_type": "code",
   "execution_count": 80,
   "metadata": {},
   "outputs": [],
   "source": [
    "a.push(4)\n",
    "a.push(1)\n",
    "a.push(3)\n",
    "a.push(6)\n",
    "a.push(5)\n",
    "a.push(2)"
   ]
  },
  {
   "cell_type": "code",
   "execution_count": 81,
   "metadata": {},
   "outputs": [
    {
     "name": "stdout",
     "output_type": "stream",
     "text": [
      "2  >>  5  >>  6  >>  3  >>  1  >>  4  >>  "
     ]
    }
   ],
   "source": [
    "a.display()"
   ]
  },
  {
   "cell_type": "code",
   "execution_count": 82,
   "metadata": {},
   "outputs": [],
   "source": [
    "a.sort()"
   ]
  },
  {
   "cell_type": "code",
   "execution_count": 83,
   "metadata": {},
   "outputs": [
    {
     "name": "stdout",
     "output_type": "stream",
     "text": [
      "1  >>  2  >>  3  >>  4  >>  5  >>  6  >>  "
     ]
    }
   ],
   "source": [
    "a.display()"
   ]
  },
  {
   "cell_type": "markdown",
   "metadata": {},
   "source": [
    "# Sort Singly Linked List Using Bubble Sort Technique"
   ]
  },
  {
   "cell_type": "code",
   "execution_count": 89,
   "metadata": {},
   "outputs": [],
   "source": [
    "class Node:\n",
    "    def __init__(self,data):\n",
    "        self.data = data\n",
    "        self.next = None\n",
    "\n",
    "class Queue:\n",
    "    def __init__(self):\n",
    "        self.head = None\n",
    "        self.tail = None\n",
    "        self.size = 0\n",
    "        \n",
    "    def isempty(self):\n",
    "        return self.head == None\n",
    "        \n",
    "    def enqueue(self,data):\n",
    "        newnode = Node(data)\n",
    "        if self.tail == None:\n",
    "            self.head = self.tail = newnode\n",
    "            self.size += 1\n",
    "        else:\n",
    "            self.tail.next = newnode\n",
    "            self.tail = newnode\n",
    "            self.size += 1\n",
    "    \n",
    "    def dequeue(self):\n",
    "        if self.isempty():\n",
    "            print('Queue is Empty')\n",
    "        else:\n",
    "            pos = self.head.data\n",
    "            temp = self.head\n",
    "            self.head = temp.next\n",
    "            self.size -= 1\n",
    "            \n",
    "            if self.head == None:\n",
    "                self.tail = None\n",
    "            return pos\n",
    "        \n",
    "    def __len__(self):\n",
    "        return self.size\n",
    "    \n",
    "    def display(self):\n",
    "        pos = self.head\n",
    "        if self.head == None:\n",
    "            return None\n",
    "        else:\n",
    "            while (pos != None):\n",
    "                print(pos.data, '->>', end = ' ')\n",
    "                pos = pos.next\n",
    "            return\n",
    "            \n",
    "    def sort(self):\n",
    "        if self.head == None:\n",
    "            print('Stack is Empty')\n",
    "        else:\n",
    "            current = self.head  \n",
    "            while(current.next != None):  \n",
    "                #Index will point to node next to current  \n",
    "                index = current.next;  \n",
    "                while(index != None):    \n",
    "                    if(current.data > index.data):  \n",
    "                        temp = current.data;  \n",
    "                        current.data = index.data;  \n",
    "                        index.data = temp\n",
    "                    index = index.next  \n",
    "                current = current.next "
   ]
  },
  {
   "cell_type": "code",
   "execution_count": 90,
   "metadata": {},
   "outputs": [],
   "source": [
    "a = Queue()"
   ]
  },
  {
   "cell_type": "code",
   "execution_count": 91,
   "metadata": {},
   "outputs": [],
   "source": [
    "a.enqueue(5)\n",
    "a.enqueue(1)\n",
    "a.enqueue(3)\n",
    "a.enqueue(2)\n",
    "a.enqueue(4)"
   ]
  },
  {
   "cell_type": "code",
   "execution_count": 92,
   "metadata": {},
   "outputs": [
    {
     "name": "stdout",
     "output_type": "stream",
     "text": [
      "5 ->> 1 ->> 3 ->> 2 ->> 4 ->> "
     ]
    }
   ],
   "source": [
    "a.display()"
   ]
  },
  {
   "cell_type": "code",
   "execution_count": 93,
   "metadata": {},
   "outputs": [],
   "source": [
    "a.sort()"
   ]
  },
  {
   "cell_type": "code",
   "execution_count": 94,
   "metadata": {},
   "outputs": [
    {
     "name": "stdout",
     "output_type": "stream",
     "text": [
      "1 ->> 2 ->> 3 ->> 4 ->> 5 ->> "
     ]
    }
   ],
   "source": [
    "a.display()"
   ]
  }
 ],
 "metadata": {
  "kernelspec": {
   "display_name": "Python 3",
   "language": "python",
   "name": "python3"
  },
  "language_info": {
   "codemirror_mode": {
    "name": "ipython",
    "version": 3
   },
   "file_extension": ".py",
   "mimetype": "text/x-python",
   "name": "python",
   "nbconvert_exporter": "python",
   "pygments_lexer": "ipython3",
   "version": "3.7.6"
  }
 },
 "nbformat": 4,
 "nbformat_minor": 4
}
